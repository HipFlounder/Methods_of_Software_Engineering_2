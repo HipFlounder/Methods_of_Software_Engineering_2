{
 "cells": [
  {
   "cell_type": "markdown",
   "metadata": {
    "deletable": false,
    "editable": false,
    "nbgrader": {
     "cell_type": "markdown",
     "checksum": "b9ce270d6d3b308a0a4803f8cc03638f",
     "grade": false,
     "grade_id": "cell-14bc8bc2e3f3b50b",
     "locked": true,
     "schema_version": 3,
     "solution": false
    },
    "run_control": {
     "frozen": true
    }
   },
   "source": [
    "---\n",
    "Stellen Sie bitte sicher, dass alles wie vorhergesehen läuft, bevor Sie dieses Übungsblatt abgeben. **Starten Sie den Kernel neu** (in der Menüleiste die Option Kernel$\\rightarrow$Restart auswählen) und **validieren** Sie anschließend das Übungsblatt (in der Menüleiste auf Validate klicken) um Rückmeldung zu eventuellen fehlenden oder fehlerhaften Eingaben zu erhalten. \n",
    "\n",
    "Füllen Sie alle Stellen im Übungsblatt aus, welche entweder `DEIN CODE HIER` oder \"DEINE ANTWORT HIER\" enthalten. Geben Sie unterhalb Ihren vollständigen Namen an.\n",
    "\n",
    "Wenn Sie Code-Bestandteile aus anderen Quellen (wie z.B. Stackoverflow) kopieren, dann machen sie den kopierten Code in ihrer Quellcodedatei kenntlich und fügen eine Referenz auf die Quelle als Kommentar hinzu.\n",
    "\n",
    "Wenn Sie die Aufgaben in einer Gruppe erledigen, dann fügen Sie die Namen aller Gruppenmitglieder in der nachfolgende Zelle zu `Name` und zusätzlich als Kommentar am Anfang Ihrer Quellcodedatei hinzu."
   ]
  },
  {
   "cell_type": "markdown",
   "metadata": {
    "deletable": false,
    "editable": false,
    "nbgrader": {
     "cell_type": "markdown",
     "checksum": "008460e9429099ecfb93dcd32bf095e8",
     "grade": false,
     "grade_id": "cell-8ae8fd1bec813ca4",
     "locked": true,
     "schema_version": 3,
     "solution": false
    },
    "run_control": {
     "frozen": true
    }
   },
   "source": [
    "---"
   ]
  },
  {
   "cell_type": "code",
   "execution_count": null,
   "metadata": {},
   "outputs": [],
   "source": [
    "NAME = \"Nicolas Bernhart\""
   ]
  },
  {
   "cell_type": "markdown",
   "metadata": {
    "deletable": false,
    "editable": false,
    "nbgrader": {
     "cell_type": "markdown",
     "checksum": "c192b9832dd6a90237eec99f9da76301",
     "grade": false,
     "grade_id": "cell-4f279d8aadb7cf1a",
     "locked": true,
     "schema_version": 3,
     "solution": false
    },
    "run_control": {
     "frozen": true
    }
   },
   "source": [
    "---"
   ]
  },
  {
   "cell_type": "markdown",
   "metadata": {
    "deletable": false,
    "editable": false,
    "nbgrader": {
     "cell_type": "markdown",
     "checksum": "8a2570e39f2a9fc296dfb930279945b3",
     "grade": false,
     "grade_id": "cell-6000643b7937cd3d",
     "locked": true,
     "schema_version": 3,
     "solution": false,
     "task": false
    },
    "run_control": {
     "frozen": true
    }
   },
   "source": [
    "<table style=\"width: 100%\">\n",
    "    <tr style=\"background: #ffffff\">\n",
    "        <td style=\"width: 240px\"><img src=\"https://mci.edu/templates/mci/images/logo.svg\" alt=\"Logo\"></td>\n",
    "        <td style=\"width: 100%\">\n",
    "            <div style=\"text-align:right; width: 100%; text-align:right\"><font style=\"font-size:38px\"><b>Methoden der Softwareentwicklung II</b></font></div>\n",
    "            <div style=\"padding-top:0px; width: 100%; text-align:right\"><font size=\"4\"><b>SS 2024</b></font></div>\n",
    "        </td>\n",
    "    </tr>\n",
    "</table>"
   ]
  },
  {
   "cell_type": "markdown",
   "metadata": {
    "deletable": false,
    "editable": false,
    "hide_input": true,
    "nbgrader": {
     "cell_type": "markdown",
     "checksum": "f03d870625fc7fdd83773d518255f957",
     "grade": false,
     "grade_id": "cell-fac722ef49a6895d",
     "locked": true,
     "schema_version": 3,
     "solution": false,
     "task": false
    },
    "run_control": {
     "frozen": true
    }
   },
   "source": [
    "----\n",
    "# Übungsblatt 5"
   ]
  },
  {
   "cell_type": "code",
   "execution_count": null,
   "metadata": {
    "deletable": false,
    "editable": false,
    "hide_input": true,
    "nbgrader": {
     "cell_type": "code",
     "checksum": "fc7920f40c381766c3f4306652a78142",
     "grade": true,
     "grade_id": "cell-fceaaf6026a03239",
     "locked": true,
     "points": 0,
     "schema_version": 3,
     "solution": false,
     "task": false
    },
    "run_control": {
     "frozen": true
    }
   },
   "outputs": [],
   "source": [
    "import jagl\n",
    "import os\n",
    "import shutil"
   ]
  },
  {
   "cell_type": "markdown",
   "metadata": {
    "deletable": false,
    "editable": false,
    "nbgrader": {
     "cell_type": "markdown",
     "checksum": "d6dc3af4bf4c629f2c6f58afbcf9f2e3",
     "grade": false,
     "grade_id": "cell-a2064689ea288dc2",
     "locked": true,
     "schema_version": 3,
     "solution": false,
     "task": false
    },
    "run_control": {
     "frozen": true
    }
   },
   "source": [
    "------\n",
    "Abgabe bis <b>Sonntag, 05. Mai 2024, 23:55 Uhr</b>"
   ]
  },
  {
   "cell_type": "markdown",
   "metadata": {
    "deletable": false,
    "editable": false,
    "nbgrader": {
     "cell_type": "markdown",
     "checksum": "05a396c0e89f545584b3a3ffde102394",
     "grade": false,
     "grade_id": "cell-8b313bd44b365158",
     "locked": true,
     "schema_version": 3,
     "solution": false,
     "task": false
    },
    "run_control": {
     "frozen": true
    }
   },
   "source": [
    "---\n",
    "\n",
    "### Achtung:\n",
    "\n",
    "*Bitte speichern Sie Ihre Quellcode-Dateien (&ast;.c;&ast;.cpp;&ast;.h;...) im selben Ordner wie dieses Übungsblatt. Beachten Sie außerdem die Kommentare zur richtigen Benennung Ihrer Dateien. Nur so ist eine korrekte Abgabe und Auswertung Ihrer Lösungen möglich.*\n",
    "\n",
    "\n",
    "*Bitte verwenden Sie für Ihre Lösungen einen ordentlichen Programmierstil. Vor allem auf eine korrekte Formatierung, aussagekräftige Variablennamen und ausführliche Kommentare sollte dabei Wert gelegt werden.*"
   ]
  },
  {
   "cell_type": "markdown",
   "metadata": {
    "deletable": false,
    "editable": false,
    "nbgrader": {
     "cell_type": "markdown",
     "checksum": "f1d33afbebfae54c5d7d00378b64ceb0",
     "grade": false,
     "grade_id": "cell-bf44f6b9a1cec38d",
     "locked": true,
     "schema_version": 3,
     "solution": false,
     "task": false
    }
   },
   "source": [
    "\n",
    "## Methoden der Spieleentwicklung V (100%)\n",
    "\n",
    "Sie haben den letzte Woche implementierten Prototypen Ihres Spiels nun einer größeren Gruppe von Spieletester:innen zum Testen gegeben. Deren Feedback zeigte vor allem zwei Kritikpunkte auf: (1) Das Inventar ist viel zu klein, und (2) es kommt immer wieder zu Abstürzen, die wahrscheinlich von Memory Leaks verursacht werden. Daher haben Sie sich entschlossen, für den nächsten Prototpyen diese zwei Punkte anzugehen.\n",
    "\n",
    "\n",
    "### Unendliches Inventar\n",
    "\n",
    "Ihre Spieletester:innen haben sich darüber beschwert, dass das Inventar zu beschränkt ist und sie viel zu viel [Loot](https://de.wikipedia.org/wiki/Loot_(Computerspiel)) in den Dungeons zurücklassen müssen. Es wurde daher beschlossen, dass alle Charaktere nun ein unbegrenztes Inventar bekommen sollen (Die Ausrüstung der Heldin ist davon nicht betroffen). Dies soll durch die Verwendung eines geeigneten Datencontainers der Standardbibliothek umgesetzt werden. Schauen Sie sich die im Webinar genannten Container genauer an und wählen Sie einen passenden Container aus.\n",
    "\n",
    "Damit der restliche Code möglichst unverändert weiterverwendet werden kann, soll die dazugehörige öffentliche Schnittstelle (die Funktionen `addInventarItem()`, `removeInventarItem()`, `getInventory()` und `sellItem()`) dabei nicht geändert werden (abgesehen von den Änderungen, die sich durch die weitere Aufgabenstellung unten ergeben). Es sollen weiterhin Exceptions geworfen werden, wenn auf einen ungültigen Slot zugegriffen wird.\n",
    "\n",
    "\n",
    "### Object Ownership\n",
    "\n",
    "\n",
    "#### Charaktere und die Klasse `Game`\n",
    "\n",
    "Ein weiterer Punkt, den die Spieletester:innen herausgefunden haben, ist, dass das Spiel nach einer längeren Spielzeit abstürzt, da wohl ein Memory Leak vorliegt. Aus diesen Grund soll die Frage der Object Ownership für die Charaktere und Gegenstände gelöst werden. Der Plan ist die Implementierung einer eigenen Klasse `Game`, der die Ownership über alle Charaktere übernimmt. Für die Charaktere sollen ab jetzt ausschließlich Heap-Objekte (also mit `new` erzeugte Objekte) zum Einsatz kommen. Diese sollen als Key-Value Paare gespeichert werden, wobei der Name des Charakters den Key bildet (ab jetzt müssen alle Charakternamen eindeutig sein).Schauen Sie sich die im Webinar genannten Container genauer an und wählen Sie einen passenden Container aus. Ob Sie Smart Pointer verwenden wollen, bleibt Ihnen überlassen.\n",
    "\n",
    "Diese Klasse soll außerdem die Objektfunktion `play()` besitzen, die das eigentliche Spiel implementiert (Der Code, der vorher in der main()-Funktion zu finden war, wandert nun in diese Funktion).\n",
    "\n",
    "Die Klasse `Game` soll auch sicherstellen, dass alle Charaktere, deren Lebenspunkte unter 0 sinken, von der Klasse `Game` direkt nach dem Looten zerstört werden. Damit sollte das Problem der Spieleabstürze gelöst sein. Spätestens im Destruktor von `Game` sollten alle noch lebenden Charaktere zerstört werden. Implementieren Sie entsprechende Debuggingausgaben in den Destruktoren aller Charaktere, damit Sie nachverfolgen können, dass am Ende auch tatsächlich alle Charaktere zerstört wurden.\n",
    "\n",
    "\n",
    "#### Gegenstände\n",
    "\n",
    "Auch für die Gegenstände muss die Ownership-Frage gestellt werden. Für Gegenstände, die sich im Iventar eines Charakters befinden, übernimmt der Charakter die Ownership. \n",
    "\n",
    "Zur Vereinfachung sollen für die Verwaltung der Gegenstände Smart Pointer verwendet werden. Damit soll sichergestellt werden, dass mittels Reference Counting Gegenstände automatisch zerstört werden, die nicht mehr benötigt werden. Dadurch ergeben sich folgende Änderungen:\n",
    "\n",
    "\n",
    "- Das Inventar bzw. das Array `gear` für die Ausrüstung speichert nun Objekte vom Typ `std::shared_ptr<Item>`.\n",
    "\n",
    "\n",
    "- Funktionen, die Gegenstände zurückgeben, haben nun als Rückgabewert einen Smart Pointer (z.B. `std::shared_ptr<Item> getInventory(int index)`).\n",
    "\n",
    "\n",
    "- Funktionen, die Gegenstände als Eingabeargument erwarten, bekommen nun einen Smart Pointer übergeben (z.B. `int addInventarItem(std::shared_ptr<Item> item)`).\n",
    "\n",
    "\n",
    "Gegenstände, die sich nicht im Inventar eines Charakters befinden (z.B. verkaufte Gegenstände), brauchen auch einen Object Owner. In diesem Fall soll auch die Klasse `Game` die Object Ownership übernehmen. Wählen Sie wieder selbstständig einen passenden Datencontainer aus. Die Gegenstände brauchen kein eindeutig identifizierendes Merkmal.\n",
    "\n",
    "Überprüfen Sie durch entsprechende Debuggingausgaben im Destruktor, ob die Gegenstände auch tatsächlich gelöscht werden.\n",
    "\n",
    "### Testprogramm\n",
    "\n",
    "Implementieren Sie wieder ein Testprogramm, diesmal in der `play()` Methode, in dem die Heldin gegen zwei Feinde kämpft, den Zauberer Pascal und den Kämpfer Matthias. Am Ende der Kämpfe sollen wieder alle erbeuteten Gegenstände verkauft werden. In der `main()`-Funktion wird nur eine Instanz der Klasse `Game` als Stackobjekt erzeugt und dann die Methode `play()` aufgerufen.\n",
    "\n",
    "<div class=\"alert alert-block alert-info\">\n",
    "<b>Info:</b>  Info: Sollten Sie keine Lösung für Exercise Sheet 4 haben, oder sicher sein wollen, dass Sie eine korrekte Basis für Exercise Sheet 5 verwenden, verwenden Sie bitte die Musterlösung zu Exercise Sheet 4, die am Donnerstag veröffentlicht wird. \n",
    "</div>"
   ]
  },
  {
   "cell_type": "code",
   "execution_count": null,
   "metadata": {
    "deletable": false,
    "editable": false,
    "hide_input": true,
    "nbgrader": {
     "cell_type": "code",
     "checksum": "e89b9d02e42f121b3c451bf24da2e945",
     "grade": true,
     "grade_id": "cell-9ceecc388a342c8f",
     "locked": true,
     "points": 0,
     "schema_version": 3,
     "solution": false,
     "task": false
    },
    "run_control": {
     "frozen": true
    }
   },
   "outputs": [],
   "source": [
    "\n",
    "# new test suite\n",
    "jagl.testsuite_begin(\"Exercise 1\")\n",
    "\n",
    "# delete all build artifacts\n",
    "_ = jagl.remove_paths(files=[\"prototyp5\", \"*.o\"])"
   ]
  },
  {
   "cell_type": "code",
   "execution_count": 1,
   "metadata": {
    "deletable": false,
    "editable": false,
    "hide_input": false,
    "nbgrader": {
     "cell_type": "code",
     "checksum": "5a17bc28b706d37c48cddad20bb5ac06",
     "grade": true,
     "grade_id": "cell-e1169cdef318d308",
     "locked": true,
     "points": 0,
     "schema_version": 3,
     "solution": false,
     "task": false
    }
   },
   "outputs": [
    {
     "name": "stdout",
     "output_type": "stream",
     "text": [
      "g++ -c -Werror -Wall -o main.o main.cpp\n",
      "g++ -c -Werror -Wall -o game.o game.cpp\n",
      "g++ -c -Werror -Wall -o hero.o hero.cpp\n",
      "g++ -c -Werror -Wall -o character.o character.cpp\n",
      "g++ -c -Werror -Wall -o item.o item.cpp\n",
      "g++ -c -Werror -Wall -o npc.o npc.cpp\n",
      "g++ -c -Werror -Wall -o fighter.o fighter.cpp\n",
      "g++ -c -Werror -Wall -o sorcerer.o sorcerer.cpp\n",
      "g++\t -o prototyp5 main.o game.o hero.o character.o item.o npc.o fighter.o sorcerer.o\n"
     ]
    }
   ],
   "source": [
    "%%bash\n",
    "#\n",
    "# Da das Kompilieren von C++-Programmen bei wachsender Größe die Eingabe langer Befehle erforderlich\n",
    "# macht, kommen in der Praxis sogenannte Build Management Systeme zum Einsatz. Diese helfen bei der\n",
    "# Automatisierung des Build-Prozesses und erleichtern Programmierern das Leben.\n",
    "# Eines der am weitersten verbreiteten Build Management Systeme unter Linux/Unix für C/C++-Programme\n",
    "# ist make.\n",
    "#\n",
    "# Ihre Aufgabe ist es, ein Makefile (das auch den Namen \"Makefile\" hat!) zu erzeugen, mithilfe welchem Ihr Programm kompiliert wird.\n",
    "# Studieren Sie sich die Folien aus der ersten Einheit, bzw. die dazugehörigen Unterlagen des\n",
    "# Selbststudiums, um ein funktionsfähiges Makefile zu erzeugen.\n",
    "#\n",
    "# Kopieren Sie vor der Abgabe ihr Makefile und Ihre Quellcodedatein in dasselbe Verzeichnis, \n",
    "# in dem dieser Übungszettel zu finden ist.\n",
    "#\n",
    "# Der Name der ausführbaren Datei sollte 'prototyp5' lauten.\n",
    "#\n",
    "\n",
    "# Das Ausführen dieser Zelle sollte das Makefile ausführen\n",
    "make"
   ]
  },
  {
   "cell_type": "code",
   "execution_count": 2,
   "metadata": {
    "hide_input": false,
    "nbgrader": {
     "cell_type": "code",
     "checksum": "57579cc3a8f7ef884a9fe2dd275f8e5d",
     "grade": false,
     "grade_id": "cell-5ff68993a3a2e6cc",
     "locked": false,
     "schema_version": 3,
     "solution": true,
     "task": false
    }
   },
   "outputs": [],
   "source": [
    "# Weisen Sie der untenstehenden Variable den Wert True zu, sobald Sie die Aufgabe erfolgreich erledigt haben!\n",
    "\n",
    "# Datentyp: bool\n",
    "exercise_5_1_solved = True"
   ]
  },
  {
   "cell_type": "code",
   "execution_count": null,
   "metadata": {
    "deletable": false,
    "editable": false,
    "hide_input": true,
    "nbgrader": {
     "cell_type": "code",
     "checksum": "e8efaf13f891afaf5379cbd589e55f0a",
     "grade": true,
     "grade_id": "cell-16d212f8cc942e5a",
     "locked": true,
     "points": 30,
     "schema_version": 3,
     "solution": false,
     "task": false
    },
    "run_control": {
     "frozen": true
    }
   },
   "outputs": [],
   "source": [
    "@jagl.testcase(\"1\", desc=\"Exercise Solved\")\n",
    "def testcase_1_1(result, suite, case):\n",
    "    varname = \"exercise_5_1_solved\"\n",
    "    result.setSucceeded()\n",
    "    jagl.check_variable_exists_and_has_type(result, globals(), varname, bool)\n",
    "    if result.isSucceeded():\n",
    "        if eval(varname):\n",
    "            result.setSucceeded(\"Exercise solved.\")\n",
    "        else:\n",
    "            result.setFailed(\"Exercise not solved.\")"
   ]
  },
  {
   "cell_type": "code",
   "execution_count": null,
   "metadata": {
    "deletable": false,
    "editable": false,
    "hide_input": true,
    "nbgrader": {
     "cell_type": "code",
     "checksum": "cbbd3c4d748ca1232acec686e7da067f",
     "grade": true,
     "grade_id": "cell-908ffcb0db889cb8",
     "locked": true,
     "points": 0,
     "schema_version": 3,
     "solution": false,
     "task": false
    },
    "run_control": {
     "frozen": true
    }
   },
   "outputs": [],
   "source": [
    "@jagl.testcase(\"2\", desc=\"Check source files\", deps=[\"1\"])\n",
    "def testcase_1_2(result, suite, case):\n",
    "    result.setSucceeded()\n",
    "    jagl.check_path_exists(result, files=[\"Makefile\"], message = \"Are you sure that you uploaded a Makefile and named it \\\"Makefile\\\"?\")\n",
    "    jagl.check_path_exists(result, files=[\"hero.h\", \"hero.cpp\", \"character.h\", \"character.cpp\", \"npc.h\", \"sorcerer.h\", \"sorcerer.cpp\", \"fighter.h\", \"fighter.cpp\", \"item.h\", \"item.cpp\", \"main.cpp\"], message = \"Did you upload the source files?\")\n",
    "    if result.isSucceeded():\n",
    "        result.addMessage(\"Makefile and source files were found.\")"
   ]
  },
  {
   "cell_type": "code",
   "execution_count": null,
   "metadata": {
    "deletable": false,
    "editable": false,
    "hide_input": true,
    "nbgrader": {
     "cell_type": "code",
     "checksum": "71a546ba99ebf36ca968463cb9a9f14a",
     "grade": true,
     "grade_id": "cell-3b6338566c50b9a5",
     "locked": true,
     "points": 40,
     "schema_version": 3,
     "solution": false,
     "task": false
    },
    "run_control": {
     "frozen": true
    }
   },
   "outputs": [],
   "source": [
    "@jagl.testcase(\"3\", desc=\"Building program\", deps=[\"1\"])\n",
    "def testcase_1_3(result, suite, case):\n",
    "    progname = \"prototyp5\"\n",
    "    if os.path.isfile(progname):\n",
    "        result.setSucceeded(\"The program could be build successfully.\")\n",
    "        \n",
    "    else:\n",
    "        res = jagl.exec_bin(\"make\")\n",
    "        if res.state == jagl.ExecutionResult.SUCCESS:\n",
    "            stdout = jagl.bytes_decode(res.stdout).strip()\n",
    "            stderr = jagl.bytes_decode(res.stderr).strip()\n",
    "            if res.exitCode == 0:\n",
    "                if os.path.isfile(progname):\n",
    "                    result.setSucceeded(\"The program could be build successfully.\")\n",
    "                else:\n",
    "                    result.setFailed(\"make was executed successfully, but I couldn't find an executable (Did your name your executable '\" + progname + \"'?).\")\n",
    "                if len(stderr) > 0:\n",
    "                    result.setFailed([\"However, there were errors.\"] + stderr.split(\"\\n\"))\n",
    "            else:\n",
    "                result.setFailed([\"The program could not be build:\"] + stderr.split(\"\\n\"))\n",
    "        elif res.state == jagl.ExecutionResult.NOTFOUND:\n",
    "            result.setFailed(\"make could not be found. Please inform your course instructor.\")\n",
    "        elif res.state == jagl.ExecutionResult.TIMEOUT:\n",
    "            result.setFailed(\"Timeout while calling make. Please inform your course instructor.\")\n",
    "        elif res.state == jagl.ExecutionResult.ERROR:\n",
    "            result.setFailed('Unknown error during execution of make: ' + str(res.error) + \" Please inform your course instructor.\")"
   ]
  },
  {
   "cell_type": "code",
   "execution_count": null,
   "metadata": {
    "deletable": false,
    "editable": false,
    "hide_input": true,
    "nbgrader": {
     "cell_type": "code",
     "checksum": "c4f3c77980505f585c94b925d202e429",
     "grade": true,
     "grade_id": "cell-c6d784138fbdef85",
     "locked": true,
     "points": 30,
     "schema_version": 3,
     "solution": false,
     "task": false
    },
    "run_control": {
     "frozen": true
    }
   },
   "outputs": [],
   "source": [
    "@jagl.testcase(\"4\", desc=\"Executing program\", deps=[\"3\"])\n",
    "def testcase_1_4(result, suite, case):\n",
    "    progname = \"prototyp5\"\n",
    "    execresult = jagl.exec_bin(\"./\" + progname, [], timeout = 30)\n",
    "    jagl.check_execution_result(result, execresult, checkExitCode = True)\n",
    "    if execresult.exitCode is not None:\n",
    "        if execresult.exitCode == -11:\n",
    "            result.setFailed(\"Program caused a segmentation fault.\")"
   ]
  },
  {
   "cell_type": "code",
   "execution_count": null,
   "metadata": {
    "deletable": false,
    "editable": false,
    "hide_input": true,
    "nbgrader": {
     "cell_type": "code",
     "checksum": "738887f9b3f760d861880e12349c0997",
     "grade": true,
     "grade_id": "cell-19d862bf0a971f31",
     "locked": true,
     "points": 0,
     "schema_version": 3,
     "solution": false,
     "task": false
    },
    "run_control": {
     "frozen": true
    }
   },
   "outputs": [],
   "source": [
    "# delete all build artifacts\n",
    "_ = jagl.remove_paths(files=[\"prototyp5\", \"*.o\"])"
   ]
  },
  {
   "cell_type": "code",
   "execution_count": null,
   "metadata": {
    "deletable": false,
    "editable": false,
    "hide_input": true,
    "nbgrader": {
     "cell_type": "code",
     "checksum": "526cab64e00d49f86de957bf19e0c45b",
     "grade": true,
     "grade_id": "cell-854768d194c5c093",
     "locked": true,
     "points": 0,
     "schema_version": 3,
     "solution": false,
     "task": false
    },
    "run_control": {
     "frozen": true
    }
   },
   "outputs": [],
   "source": []
  },
  {
   "cell_type": "code",
   "execution_count": null,
   "metadata": {
    "deletable": false,
    "editable": false,
    "hide_input": true,
    "nbgrader": {
     "cell_type": "code",
     "checksum": "a80f5de9b54ffe856825660146d7c6f7",
     "grade": true,
     "grade_id": "cell-957bc4c9411ccdfa",
     "locked": true,
     "points": 0,
     "schema_version": 3,
     "solution": false,
     "task": false
    },
    "run_control": {
     "frozen": true
    }
   },
   "outputs": [],
   "source": []
  },
  {
   "cell_type": "code",
   "execution_count": null,
   "metadata": {
    "deletable": false,
    "editable": false,
    "hide_input": true,
    "nbgrader": {
     "cell_type": "code",
     "checksum": "cc8bb6f5ddf45d8b3ca86411c3eeb30f",
     "grade": true,
     "grade_id": "cell-02b5a68335eb939c",
     "locked": true,
     "points": 0,
     "schema_version": 3,
     "solution": false,
     "task": false
    },
    "run_control": {
     "frozen": true
    }
   },
   "outputs": [],
   "source": []
  },
  {
   "cell_type": "code",
   "execution_count": null,
   "metadata": {
    "deletable": false,
    "editable": false,
    "hide_input": true,
    "nbgrader": {
     "cell_type": "code",
     "checksum": "d70274e3830e1ef228efaa53c16e62d8",
     "grade": true,
     "grade_id": "cell-9d4643c07d55be05",
     "locked": true,
     "points": 0,
     "schema_version": 3,
     "solution": false,
     "task": false
    },
    "run_control": {
     "frozen": true
    }
   },
   "outputs": [],
   "source": []
  }
 ],
 "metadata": {
  "kernelspec": {
   "display_name": "Python 3 (ipykernel)",
   "language": "python",
   "name": "python3"
  },
  "language_info": {
   "codemirror_mode": {
    "name": "ipython",
    "version": 3
   },
   "file_extension": ".py",
   "mimetype": "text/x-python",
   "name": "python",
   "nbconvert_exporter": "python",
   "pygments_lexer": "ipython3",
   "version": "3.9.6"
  }
 },
 "nbformat": 4,
 "nbformat_minor": 2
}
